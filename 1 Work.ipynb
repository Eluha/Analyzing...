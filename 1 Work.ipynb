{
 "cells": [
  {
   "cell_type": "markdown",
   "id": "861ad8d0",
   "metadata": {},
   "source": [
    "1) Начнём с простого - сохраните в переменную age произвольный возраст, выраженный целым числом, а в переменную name какое-нибудь имя в виде строки"
   ]
  },
  {
   "cell_type": "code",
   "execution_count": 2,
   "id": "e6e857f2",
   "metadata": {},
   "outputs": [],
   "source": [
    "age = 21\n",
    "name = \"Ilya\""
   ]
  },
  {
   "cell_type": "markdown",
   "id": "cbadf49f",
   "metadata": {},
   "source": [
    "2) Создайте список user_info, содержащий 2 строки (имя и фамилия пользователя), 1 дробное число (зарплата) и 1 целое число (стаж)"
   ]
  },
  {
   "cell_type": "code",
   "execution_count": 3,
   "id": "9071491c",
   "metadata": {},
   "outputs": [],
   "source": [
    "user_info = ['Ilya', 'Zadvorniy', 560.4, 1]"
   ]
  },
  {
   "cell_type": "markdown",
   "id": "b47d863d",
   "metadata": {},
   "source": [
    "3) Поместите в переменную first первый (то есть нулевой) элемент из списка salaries"
   ]
  },
  {
   "cell_type": "code",
   "execution_count": 6,
   "id": "751e9a4f",
   "metadata": {},
   "outputs": [
    {
     "data": {
      "text/plain": [
       "'Ilya'"
      ]
     },
     "execution_count": 6,
     "metadata": {},
     "output_type": "execute_result"
    }
   ],
   "source": [
    "first = user_info[0]\n",
    "first"
   ]
  },
  {
   "cell_type": "markdown",
   "id": "a0811c11",
   "metadata": {},
   "source": [
    "4) Добавьте в список users элементы 'Voronov' и 42"
   ]
  },
  {
   "cell_type": "code",
   "execution_count": 36,
   "id": "95e309c8",
   "metadata": {},
   "outputs": [],
   "source": [
    "users = []\n"
   ]
  },
  {
   "cell_type": "code",
   "execution_count": 37,
   "id": "37503aba",
   "metadata": {},
   "outputs": [],
   "source": [
    "users.extend(['Voronov', 42])\n"
   ]
  },
  {
   "cell_type": "code",
   "execution_count": 38,
   "id": "8e6712dd",
   "metadata": {},
   "outputs": [
    {
     "data": {
      "text/plain": [
       "['Voronov', 42]"
      ]
     },
     "execution_count": 38,
     "metadata": {},
     "output_type": "execute_result"
    }
   ],
   "source": [
    "users"
   ]
  },
  {
   "cell_type": "markdown",
   "id": "07589de1",
   "metadata": {},
   "source": [
    "5) В переменной user_ages содержится список возрастов клиентов. Напишите петлю, выводящую на печать возраста, которые больше 18\n",
    "Пример данных, которые могут быть в user_ages\n",
    "user_ages = [10, 18, 21, 35, 42, 27, 12, 16]\n",
    "Note: в этом задании нужно печатать эти числа"
   ]
  },
  {
   "cell_type": "code",
   "execution_count": 40,
   "id": "d560ac4f",
   "metadata": {},
   "outputs": [
    {
     "name": "stdout",
     "output_type": "stream",
     "text": [
      "21\n",
      "35\n",
      "42\n",
      "27\n"
     ]
    }
   ],
   "source": [
    "user_ages = [10, 18, 21, 35, 42, 27, 12, 16]\n",
    "for el in user_ages:\n",
    "    if el > 18:\n",
    "        print(el)"
   ]
  },
  {
   "cell_type": "markdown",
   "id": "a1229375",
   "metadata": {},
   "source": [
    "6) Напишите программу, проверяющую стаж работы сотрудника. В переменной worker содержится список, содержащий значения как во 2-ом задании (имя, фамилия, зарплата, стаж). Поместите в переменную status такую строку\n",
    "\n",
    "user_name user_family is position\n",
    "\n",
    "где user_name и user_family - имя и фамилия сотрудника, а position - одна из следующих строк\n",
    "\n",
    "'junior' - стаж меньше 2 лет\n",
    "'middle' - стаж больше либо равен 2 лет\n",
    "'senior' - стаж больше 5 лет \n",
    "Пример данных, которые могут быть в worker\n",
    "\n",
    "worker = ['Olya', 'Silyutina', 350000, 3]\n",
    "Hint: печатать результат не нужно, просто задайте его в переменную status"
   ]
  },
  {
   "cell_type": "code",
   "execution_count": 42,
   "id": "4606a9a3",
   "metadata": {},
   "outputs": [
    {
     "name": "stdout",
     "output_type": "stream",
     "text": [
      "Имя разработчика - Olya, фамилия - Silyutina, его позиция - middle\n",
      "Имя разработчика - Ilya, фамилия - Zadvorniy, его позиция - junior\n"
     ]
    }
   ],
   "source": [
    "worker = [['Olya', 'Silyutina', 350000, 3], ['Ilya', 'Zadvorniy', 560.4, 1]]\n",
    "for el in worker:\n",
    "    if el[3] < 2:\n",
    "        position = 'junior'\n",
    "    elif el[3] <= 5:\n",
    "        position = 'middle'\n",
    "    else: \n",
    "        position = 'senior'\n",
    "    print(f'Имя разработчика - {el[0]}, фамилия - {el[1]}, его позиция - {position}')\n"
   ]
  },
  {
   "cell_type": "markdown",
   "id": "1289e719",
   "metadata": {},
   "source": [
    "7) В списке values содержатся числовые значения. Создайте список tens и добавьте в него все числа из values, которые делятся на 10 нацело\n",
    "Пример данных, которые могут быть в values\n",
    "values = [12, 134, 10, 47, 100, 20, 50, 160, 210]\n"
   ]
  },
  {
   "cell_type": "code",
   "execution_count": 45,
   "id": "35c28bc4",
   "metadata": {},
   "outputs": [
    {
     "data": {
      "text/plain": [
       "[10, 100, 20, 50, 160, 210]"
      ]
     },
     "execution_count": 45,
     "metadata": {},
     "output_type": "execute_result"
    }
   ],
   "source": [
    "values = [12, 134, 10, 47, 100, 20, 50, 160, 210]\n",
    "result = []\n",
    "for el in values:\n",
    "    if el % 10 == 0:\n",
    "        result.append(el)\n",
    "result"
   ]
  },
  {
   "cell_type": "markdown",
   "id": "ce1d9bfd",
   "metadata": {},
   "source": [
    "8) ⭐️Задание со звёздочкой!⭐️\n",
    "Реализуйте цикл, который пробегается по списку workers со значениями как в 2-ом и 6-ом заданиях, и выводит для каждого сотрудника строку (то есть печатает её для каждого элемента списка)\n",
    "user_name user_family is position\n",
    "где user_name и user_family - имя и фамилия сотрудника, а position - одна из следующих строк\n",
    "'junior' - стаж меньше 2 лет\n",
    "'middle' - стаж больше либо равен 2 лет\n",
    "'senior' - стаж больше 5 лет \n",
    "Пример данных, которые могут быть в workers\n",
    "workers = [['Ivan', 'Ivanov', 100000, 2], ['Petr', 'Petrov', 150000, 2], ['Sidor', 'Sidorov', 200000, 3]]\n",
    "Note: в этом задании нужно печатать эти строки"
   ]
  },
  {
   "cell_type": "code",
   "execution_count": 59,
   "id": "dd2d2561",
   "metadata": {},
   "outputs": [
    {
     "name": "stdout",
     "output_type": "stream",
     "text": [
      "Имя разработчика - Ivan, фамилия - Ivanov, его позиция - junior\n",
      "Имя разработчика - Petr, фамилия - Petrov, его позиция - middle\n",
      "Имя разработчика - Sidor, фамилия - Sidorov, его позиция - senior\n"
     ]
    }
   ],
   "source": [
    "workers = [['Ivan', 'Ivanov', 100000, 1], ['Petr', 'Petrov', 150000, 5], ['Sidor', 'Sidorov', 200000, 10]]\n",
    "for el in workers:\n",
    "    if el[3] < 2:\n",
    "        position = 'junior'\n",
    "    elif el[3] <= 5:\n",
    "        position = 'middle'\n",
    "    else: \n",
    "        position = 'senior'\n",
    "    print(f'Имя разработчика - {el[0]}, фамилия - {el[1]}, его позиция - {position}')"
   ]
  },
  {
   "cell_type": "code",
   "execution_count": null,
   "id": "7242a03a",
   "metadata": {},
   "outputs": [],
   "source": []
  },
  {
   "cell_type": "code",
   "execution_count": null,
   "id": "d3fa6e9c",
   "metadata": {},
   "outputs": [],
   "source": []
  }
 ],
 "metadata": {
  "kernelspec": {
   "display_name": "Python 3 (ipykernel)",
   "language": "python",
   "name": "python3"
  },
  "language_info": {
   "codemirror_mode": {
    "name": "ipython",
    "version": 3
   },
   "file_extension": ".py",
   "mimetype": "text/x-python",
   "name": "python",
   "nbconvert_exporter": "python",
   "pygments_lexer": "ipython3",
   "version": "3.9.7"
  }
 },
 "nbformat": 4,
 "nbformat_minor": 5
}
